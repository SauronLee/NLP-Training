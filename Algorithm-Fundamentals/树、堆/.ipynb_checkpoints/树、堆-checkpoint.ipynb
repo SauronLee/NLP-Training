{
 "cells": [
  {
   "cell_type": "markdown",
   "id": "d6a7c64e",
   "metadata": {},
   "source": [
    "# 树，堆"
   ]
  },
  {
   "cell_type": "markdown",
   "id": "4961ee6a",
   "metadata": {},
   "source": [
    "## 树的介绍："
   ]
  },
  {
   "cell_type": "markdown",
   "id": "bc488fab",
   "metadata": {},
   "source": [
    "* 完全二叉树：  \n",
    "叶节点只能出现在最下层和次下层，并且最下层的结点都几种在该层的最左边的若干位置的二叉树。  \n",
    "任意 $i$ 节点的左子节点为 $i\\times 2 + 1$ 右子节点为 $i \\times 2 + 2$\n",
    "（堆就是完全二叉树）"
   ]
  },
  {
   "cell_type": "markdown",
   "id": "5ec90847",
   "metadata": {},
   "source": [
    "* 平衡二叉树：  \n",
    "它是一颗空树或它的左右两个子树的高度差的绝对值不超过1，并且左右两个子树的高度差的绝对值不超过1，并且左右两个子树都是一个平衡二叉树。  \n",
    "应用场景：做搜索时极端情况下二叉树会退化（只有左子树：$O(\\log n) \\to O(n)$），所以做搜索时尽量保证它是一个平衡树（），\n"
   ]
  },
  {
   "cell_type": "markdown",
   "id": "5fb53386",
   "metadata": {},
   "source": [
    "* 二叉搜索树（查找树，排序树）：  \n",
    "它的所有左子树的节点都比根节点小，所有右节点都比根节点大（复杂度为：$O(\\log n)$）"
   ]
  },
  {
   "cell_type": "markdown",
   "id": "d36821a3",
   "metadata": {},
   "source": [
    "## 树的应用"
   ]
  },
  {
   "cell_type": "markdown",
   "id": "8e4f40bf",
   "metadata": {},
   "source": [
    "快速数据检索  \n",
    "* STL的黑红树\n",
    "* 数据库的B+树\n",
    "\n",
    "文档组织结构\n",
    "* DOM\n",
    "\n",
    "人工智能\n",
    "* 决策树\n",
    "\n",
    "游戏\n",
    "* 通过构造空间树实现快速碰撞检测（https://www.zhihu.com/question/25111128）\n",
    "\n",
    "区块链  \n",
    "* 默克尔树：利用二叉搜索的特性做hash比较（典型的空间换时间的做法）"
   ]
  },
  {
   "cell_type": "markdown",
   "id": "b2b9dd6f",
   "metadata": {},
   "source": [
    "## 常用算法\n",
    "递归  \n",
    "* 树的深度优先遍历\n",
    "    * 前序遍历\n",
    "        * 根节点，左子树，右子树  \n",
    "            * 左子树：根节点，左子树，右子树  \n",
    "            * 右子树：根节点，左子树，右子树\n",
    "    * 中序遍历\n",
    "        * 左根右\n",
    "    * 后序遍历\n",
    "        * 左右根\n",
    "        \n"
   ]
  },
  {
   "cell_type": "markdown",
   "id": "7024b32d",
   "metadata": {},
   "source": [
    "```\n",
    "order(tree) //递归函数\n",
    "{ \n",
    "    //前序:根左右               //中序:左根右                //后序:左右根\n",
    "    根:print:data;             左:order(left);            左:order(left);\n",
    "    左:order(left);            根:print:data;             右:order(right);\n",
    "    右:order(right);           右:order(right);           根:print:data;\n",
    "}\n",
    "```"
   ]
  },
  {
   "cell_type": "markdown",
   "id": "ff8a4b6a",
   "metadata": {},
   "source": [
    "使用递归的方式实现中序遍历（lintcode：67）\n",
    "```python\n",
    "class Solution:\n",
    "    \"\"\"\n",
    "    @param root: A Tree\n",
    "    @return: Inorder in ArrayList which contains node values.\n",
    "    \"\"\"\n",
    "    def __init__(self):\n",
    "        self.ret = []\n",
    "    def inorderTraversal(self, root):\n",
    "        if root:\n",
    "            self.inorderTraversal(root.left)\n",
    "            self.ret.append(root.val)\n",
    "            self.inorderTraversal(root.right)\n",
    "        return ret\n",
    "```"
   ]
  },
  {
   "cell_type": "markdown",
   "id": "4e3f2a3f",
   "metadata": {},
   "source": [
    "使用非递归的方式实现中序遍历\n",
    "```python\n",
    "class Solution:\n",
    "   def inorderTraversal(self, root):\n",
    "    ret = []\n",
    "    stack = []\n",
    "    while root or stack:\n",
    "        while root:\n",
    "            stack.append(root)\n",
    "            root = root.left\n",
    "        if stack:\n",
    "            root = stack.pop()\n",
    "            ret.append(root.val)\n",
    "            root = root.right\n",
    "    return ret\n",
    "```"
   ]
  },
  {
   "cell_type": "markdown",
   "id": "35c01d6a",
   "metadata": {},
   "source": [
    "翻转二叉树（lintcode：175）：\n",
    "```python\n",
    "class Solution:\n",
    "    def invertBinaryTree(self, root):\n",
    "        if not root:\n",
    "            return\n",
    "        stack = [rooot]\n",
    "        while stack:\n",
    "            node.stack.pop()\n",
    "            node.left, node.right = noderight, node.left\n",
    "            if node.left:\n",
    "                stack.append(node.left)\n",
    "            if node.right:\n",
    "                stack.append(node.right)\n",
    "```"
   ]
  },
  {
   "cell_type": "markdown",
   "id": "24dcd037",
   "metadata": {},
   "source": [
    "给出树的中序遍历和后序遍历构造二叉树：  \n",
    "（不存在相同值的节点）\n",
    "```python\n",
    "class Solution:\n",
    "    \"\"\"\n",
    "    @param inorder : A list of integers that inorder traversal of a tree\n",
    "    @param postorder : A list of integers that postorder traversal of a tree\n",
    "    @return : Root of a tree\n",
    "    \"\"\"\n",
    "    def buildTree(self, inorder, postorder):\n",
    "        # write your code here\n",
    "        return self._buildTree(inorder, 0, len(inorder), postorder, 0, len(postorder))\n",
    "\n",
    "    def _buildTree(self, inorder, in_start, in_end, postorder, post_start, post_end):\n",
    "        if in_start >= in_end:\n",
    "            return None\n",
    "        i = in_start\n",
    "        while i < in_end:\n",
    "            if inorder[i] == postorder[post_end -1]:    # 找到根节点\n",
    "                break\n",
    "            i += 1\n",
    "        root = TreeNode(inorder[i])\n",
    "        left_len = i - in_start # 左子树元素数量\n",
    "        root.left = self._buildTree(inorder, in_start, i, postorder, post_start, post_start + left_len)\n",
    "        root.right = self._buildTree(inorder, i + 1, in_end, postorder, post_start + left_len, post_end - 1)\n",
    "        return root\n",
    "```"
   ]
  },
  {
   "cell_type": "code",
   "execution_count": null,
   "id": "d3ff42fd",
   "metadata": {},
   "outputs": [],
   "source": []
  }
 ],
 "metadata": {
  "kernelspec": {
   "display_name": "Python 3",
   "language": "python",
   "name": "python3"
  },
  "language_info": {
   "codemirror_mode": {
    "name": "ipython",
    "version": 3
   },
   "file_extension": ".py",
   "mimetype": "text/x-python",
   "name": "python",
   "nbconvert_exporter": "python",
   "pygments_lexer": "ipython3",
   "version": "3.8.8"
  },
  "toc": {
   "base_numbering": 1,
   "nav_menu": {},
   "number_sections": true,
   "sideBar": true,
   "skip_h1_title": false,
   "title_cell": "Table of Contents",
   "title_sidebar": "Contents",
   "toc_cell": false,
   "toc_position": {},
   "toc_section_display": true,
   "toc_window_display": false
  }
 },
 "nbformat": 4,
 "nbformat_minor": 5
}
