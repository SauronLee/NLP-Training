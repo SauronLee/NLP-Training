{
 "cells": [
  {
   "cell_type": "markdown",
   "id": "eed705df",
   "metadata": {},
   "source": [
    "# 数据结构"
   ]
  },
  {
   "cell_type": "markdown",
   "id": "dfa17040",
   "metadata": {},
   "source": [
    "栈和队列：\n",
    "数据结构-平衡的艺术： 哈希表，布隆过滤器"
   ]
  },
  {
   "cell_type": "markdown",
   "id": "a9916697",
   "metadata": {},
   "source": [
    "作业：deetcode 394 decode string"
   ]
  },
  {
   "cell_type": "markdown",
   "id": "86a018e8",
   "metadata": {},
   "source": [
    "哈希表：\n",
    ">* 定义：存放数据的集合  \n",
    ">* 根据key，value进行插入，查找，删除（可以没有）  \n",
    ">* 空间复杂度：O（m）\n",
    ">* 单词操作：O（1）\n",
    ">* 本质：key的索引"
   ]
  },
  {
   "cell_type": "markdown",
   "id": "aad2e001",
   "metadata": {},
   "source": [
    "哈希表例题：给出n个\\[0,m)范围的整数，去重  \n",
    "* 快速排序 （排序后取连续数中的一个数即可）  \n",
    "     * 期望时间复杂度 O（nlogn）  \n",
    "     * 附加空间复杂度 O（1）  \n",
    "* 计数（基数）排序 （另外创建一个数组用于统计每个数重复的次数）   \n",
    "     * 时间复杂度 O（n+m）超越比较排序下界  \n",
    "     * 附加空间复杂度 O（m）\n",
    "     "
   ]
  },
  {
   "cell_type": "markdown",
   "id": "d1f167f9",
   "metadata": {},
   "source": [
    "哈希表：思考  \n",
    "若n << m, 基数排序的大量空间就会被浪费，可使用模运算来折叠，如模10的话 10,20...90 = 0  \n",
    "但是折叠会存在冲突 -> 如何处理冲突：\n",
    "* 开放地址法 （数组）  \n",
    "    * 优点：编程简单  \n",
    "    * 缺点：效率低  \n",
    "* 拉链法 （数组+链表）  \n",
    "    * 缺点：编程复杂  \n",
    "    * 优点：消耗更多的空间，效率高  "
   ]
  },
  {
   "cell_type": "markdown",
   "id": "b41c7bd7",
   "metadata": {},
   "source": [
    "如果两个哈希表占用空间是一样的，那么怎么判断哪个效率高哪个效率低：  \n",
    "负载率： 已有元素的大小 / 存储散列大小\n"
   ]
  },
  {
   "cell_type": "code",
   "execution_count": null,
   "id": "2149ca71",
   "metadata": {},
   "outputs": [],
   "source": []
  }
 ],
 "metadata": {
  "kernelspec": {
   "display_name": "Python 3",
   "language": "python",
   "name": "python3"
  },
  "language_info": {
   "codemirror_mode": {
    "name": "ipython",
    "version": 3
   },
   "file_extension": ".py",
   "mimetype": "text/x-python",
   "name": "python",
   "nbconvert_exporter": "python",
   "pygments_lexer": "ipython3",
   "version": "3.8.8"
  },
  "toc": {
   "base_numbering": 1,
   "nav_menu": {},
   "number_sections": true,
   "sideBar": true,
   "skip_h1_title": false,
   "title_cell": "Table of Contents",
   "title_sidebar": "Contents",
   "toc_cell": false,
   "toc_position": {},
   "toc_section_display": true,
   "toc_window_display": false
  }
 },
 "nbformat": 4,
 "nbformat_minor": 5
}
