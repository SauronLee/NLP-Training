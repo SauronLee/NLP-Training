{
 "cells": [
  {
   "cell_type": "markdown",
   "id": "395c788c",
   "metadata": {},
   "source": [
    "# 算法初步\n",
    "---\n",
    "\n",
    "* 笔试中最热门的算法：贪心，分治，动态规划，树，图等（考研写代码的能力-有的人一天可以处理亿级流量有的却只能处理千万级）\n",
    "* 练习：https://leetcode.com/problemset/algorithms/\n",
    "* 书籍：算法竞赛入门经典 -刘汝佳"
   ]
  },
  {
   "cell_type": "markdown",
   "id": "55a02512",
   "metadata": {},
   "source": [
    "算法特征：（一切流程结算法）  \n",
    "> 有穷性（一定可以计算完）;  \n",
    "> 确定性（算法的描述方式要非常确定）;  \n",
    "> 可行性（算法一定不能太离谱）;  \n",
    "> 输入与输出（一定要有输入输出，四色地图）  "
   ]
  },
  {
   "cell_type": "markdown",
   "id": "d1c7199c",
   "metadata": {},
   "source": [
    "算法有哪些？\n",
    "> 穷举（万能算法）：求N个数的全排列； ab皇后问题   \n",
    "> 分而治之：二分查找（减而治之-抛弃不可能存在答案的部分）；归并排序（分而治之-分成几部分分别处理后再合并）  \n",
    "> 贪心：最小生成树（Prim，Kruskal）；单源最短路（Dijkstra）  \n",
    "> 动态规划：背包；士兵路径"
   ]
  },
  {
   "cell_type": "markdown",
   "id": "99b06c5d",
   "metadata": {},
   "source": [
    "复杂度  \n",
    "谈算法就是谈复杂度  \n",
    "硬件的提升是常数级别的，算法的提升是指数级别的  \n",
    ">* 时空复杂度：使用大O记号（只考虑最坏情况，忽略系数）；  \n",
    "    > 时间：基本操作的次数（汇编指令的条数）；  \n",
    "    > 空间：占用内存的字节数（空间是可以再利用的）；  \n",
    "    > 时空互换：Hash表  \n",
    "    \n",
    ">* 常用计算  \n",
    "    > $O(1)$：基本运算（+，-，*，/，%，寻址）  \n",
    "    > $O(logn)$：二分查找 （每次抛弃一半的待选区间，最多抛弃logn次就可以找到答案）   \n",
    "    > $O(n^{\\frac{1}{2}})$：枚举约数  （寻找一个整数的约数最多需要$\\sqrt{n}$的时间）  \n",
    "    > $O(n)$：线性查找（比如找到一个队列里面最大的数或者最小的数）  \n",
    "    > $O(n^{2})$：朴素最近点对（找出一个平面上最近的两个点是哪两个点，枚举两个点计算它们的距离最小的就是$n^{2}$的）  \n",
    "    > $O(n^{3})$：Floyd最短路；普通矩阵乘法\n",
    "    > $O(nlogn)$：最常见的是归并排序or快速排序（期望复杂度）， $O(nlogn)$是基于比较排序的算法的下界。*快速排序最坏情况是$n^2$   \n",
    "    > $O(2^n)$：枚举全部子集（这个算法复杂度比较少见，因为太大了）  \n",
    "    > $O(n!)$：枚举全排列  \n",
    "\n",
    ">* 总结\n",
    "    > 优秀：$O(1) < O(logn) < O(n^{\\frac{1}{2}}) < O(n) < O(nlogn)$  (如果是这些复杂度的话面试官不会继续追问)  \n",
    "    > 可能优化：$O(n^{2}) < O(n^{3}) < O(2^{n}) < O(n!)$"
   ]
  },
  {
   "cell_type": "markdown",
   "id": "36e5ccf7",
   "metadata": {},
   "source": [
    "如何计算复杂度：\n",
    "> 输入输出法：读取或输出队列时最多需要多少个步骤  \n",
    "> 数的循环次数：两层循环每层$n$次就是$n^2$  \n",
    "> 均摊分析：多个操作，一起算时间复杂度。Multipop的队列每次出队的数目都不确定，那么很难直观地计算时间复杂度，我们可以从宏观的角度去分析，如果队列中的每个元素只会出队一次那么复杂度就是$n$"
   ]
  },
  {
   "cell_type": "markdown",
   "id": "fb2ae5a5",
   "metadata": {},
   "source": [
    "## 练习"
   ]
  },
  {
   "cell_type": "code",
   "execution_count": null,
   "id": "3fe7ed5f",
   "metadata": {},
   "outputs": [],
   "source": [
    "# leetcode: 121\n",
    "class Solution{\n",
    "    public int maxProfit(int[] prices) {\n",
    "        int max = 0;\n",
    "        for (int i = 0; i < prices.length; ++i)\n",
    "            for (int j = i; j < prices.length; ++j)\n",
    "                if (prices[j] - prices[i] > max)\n",
    "                    max = prices[j] - prices[i];\n",
    "        return max;\n",
    "    }\n",
    "}"
   ]
  },
  {
   "cell_type": "markdown",
   "id": "91b11123",
   "metadata": {},
   "source": [
    "复杂度为$O(n^2)$,$O(n^2)$是可以优化的，因为本题中不存在分治或排序所以不考虑$O(nlogn)$,又因为此题最低也要把整个数组扫描一遍所以我们挑战$O(n)$"
   ]
  },
  {
   "cell_type": "code",
   "execution_count": null,
   "id": "68cfae50",
   "metadata": {},
   "outputs": [],
   "source": [
    "class Solution{\n",
    "    public int maxProfit(int[] prices) {\n",
    "        int max = 0;\n",
    "        int min = 999999999;\n",
    "        for (int i = 0; i < prices.length; ++i)\n",
    "        {\n",
    "            if (prices[i] < min)\n",
    "                min = prices[i]\n",
    "            if (prices[i] - min > max)\n",
    "                max = prices[i] - min\n",
    "        }\n",
    "        return max;\n",
    "    }\n",
    "}"
   ]
  },
  {
   "cell_type": "code",
   "execution_count": null,
   "id": "b8e0ee46",
   "metadata": {},
   "outputs": [],
   "source": [
    "\"\"\"\n",
    "最大数组和\n",
    "描述：给定数组a[1...n],求最大子数组和，即找出 1 <= i <= j <= n, 使a[i] + a[i+1] +...+ a[j]最大\n",
    "三种算法：暴力枚举O(n^3);优化枚举O(n^2)；贪心算法O(n)\n",
    "\"\"\"\n",
    "\n",
    "# 1. 暴力枚举：三重循环 时间复杂度O(n^3), 附加空间复杂度O(1)\n",
    "for i <- i to n\n",
    "    for j <- i to n\n",
    "        sum <- a[i] +...+ a[j]\n",
    "        ans <- max(ans, sum)\n",
    "        \n",
    "# 2. 优化枚举：两重循环（从最里层开始看，因为最里层执行次数最多）, 时间复杂度O(n^2), 附加空间复杂度O(1)\n",
    "for i <- 1 to n\n",
    "    sum <- 0\n",
    "    for j <- i to n\n",
    "        sum <- sum + a[j]\n",
    "        ans <- max(ans, sum)\n",
    "\n",
    "# 3. 继续优化：其实数组中只要没有负数的话从头加到尾一定是最大的，所以我们把当求和总数为零时让他从0计算即可，只需循环一遍O(n)\n",
    "sum <- 0\n",
    "ans <- 0\n",
    "for i <- 1 to n\n",
    "    sum <- sum + a[i]\n",
    "    ans <- max(sum, ans)\n",
    "    if (sum < 0) sum <- 0\n",
    "\n"
   ]
  },
  {
   "cell_type": "markdown",
   "id": "9901028e",
   "metadata": {},
   "source": [
    "作业：  \n",
    "Leetcode 152 Maximun Product Subarray:\n",
    "\n",
    "要点：$A*B$ ~ $lg(A*B) = lg(A) + lg(B)$  \n",
    "积化和，注意正负号"
   ]
  },
  {
   "cell_type": "code",
   "execution_count": null,
   "id": "959d1d40",
   "metadata": {},
   "outputs": [],
   "source": []
  }
 ],
 "metadata": {
  "kernelspec": {
   "display_name": "Python 3",
   "language": "python",
   "name": "python3"
  },
  "language_info": {
   "codemirror_mode": {
    "name": "ipython",
    "version": 3
   },
   "file_extension": ".py",
   "mimetype": "text/x-python",
   "name": "python",
   "nbconvert_exporter": "python",
   "pygments_lexer": "ipython3",
   "version": "3.8.8"
  },
  "toc": {
   "base_numbering": 1,
   "nav_menu": {},
   "number_sections": true,
   "sideBar": true,
   "skip_h1_title": false,
   "title_cell": "Table of Contents",
   "title_sidebar": "Contents",
   "toc_cell": false,
   "toc_position": {},
   "toc_section_display": true,
   "toc_window_display": false
  }
 },
 "nbformat": 4,
 "nbformat_minor": 5
}
