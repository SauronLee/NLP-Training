{
 "cells": [
  {
   "cell_type": "markdown",
   "id": "395c788c",
   "metadata": {},
   "source": [
    "# 算法初步\n",
    "---\n",
    "\n",
    "* 笔试中最热门的算法：贪心，分治，动态规划，树，图等（考研写代码的能力-有的人一天可以处理亿级流量有的却只能处理千万级）\n",
    "* 练习：https://leetcode.com/problemset/algorithms/"
   ]
  },
  {
   "cell_type": "markdown",
   "id": "55a02512",
   "metadata": {},
   "source": [
    "算法特征：（一切流程结算法）  \n",
    "> 有穷性（一定可以计算完）;  \n",
    "> 确定性（算法的描述方式要非常确定）;  \n",
    "> 可行性（算法一定不能太离谱）;  \n",
    "> 输入与输出（一定要有输入输出，四色地图）  "
   ]
  },
  {
   "cell_type": "markdown",
   "id": "d1c7199c",
   "metadata": {},
   "source": [
    "算法有哪些？\n",
    "> 穷举（万能算法）：求N个数的全排列； ab皇后问题   \n",
    "> 分而治之：二分查找（减而治之-抛弃不可能存在答案的部分）；归并排序（分而治之-分成几部分分别处理后再合并）  \n",
    "> 贪心：最小生成树（Prim，Kruskal）；单源最短路（Dijkstra）  \n",
    "> 动态规划：背包；士兵路径"
   ]
  },
  {
   "cell_type": "markdown",
   "id": "99b06c5d",
   "metadata": {},
   "source": [
    "复杂度  \n",
    "谈算法就是谈复杂度  \n",
    "硬件的提升是常数级别的，算法的提升是指数级别的  \n",
    ">* 时空复杂度：使用大O记号（只考虑最坏情况，忽略系数）；  \n",
    "    > 时间：基本操作的次数（汇编指令的条数）；  \n",
    "    > 空间：占用内存的字节数（空间是可以再利用的）；  \n",
    "    > 时空互换：Hash表  \n",
    "    \n",
    ">* 常用计算  \n",
    "    > $O(1)$：基本运算（+，-，*，/，%，寻址）  \n",
    "    > $O(logn)$：二分查找 （每次抛弃一半的待选区间，最多抛弃logn次就可以找到答案）   \n",
    "    > $O(n^{\\frac{1}{2}})$：枚举约数  （寻找一个整数的约数最多需要$\\sqrt{n}$的时间）  \n",
    "    > $O(n)$：线性查找（比如找到一个队列里面最大的数或者最小的数）  \n",
    "    > $O(n^{2})$：朴素最近点对（找出一个平面上最近的两个点是哪两个点，枚举两个点计算它们的距离最小的就是$n^{2}$的）  \n",
    "    > $O(n^{3})$：Floyd最短路；普通矩阵乘法\n",
    "    > $O(nlogn)$：最常见的是归并排序or快速排序（期望复杂度）， $O(nlogn)$是基于比较排序的算法的下界。*快速排序最坏情况是$n^2$   \n",
    "    > $O(2^n)$：枚举全部子集（这个算法复杂度比较少见，因为太大了）  \n",
    "    > $O(n!)$：枚举全排列  \n",
    "\n",
    ">* 总结\n",
    "    > 优秀：$O(1) < O(logn) < O(n^{\\frac{1}{2}}) < O(n) < O(nlogn)$  (如果是这些复杂度的话面试官不会继续追问)  \n",
    "    > 可能优化：$O(n^{2}) < O(n^{3}) < O(2^{n}) < O(n!)$"
   ]
  },
  {
   "cell_type": "markdown",
   "id": "36e5ccf7",
   "metadata": {},
   "source": []
  },
  {
   "cell_type": "code",
   "execution_count": null,
   "id": "27f72cbb",
   "metadata": {},
   "outputs": [],
   "source": []
  }
 ],
 "metadata": {
  "kernelspec": {
   "display_name": "Python 3",
   "language": "python",
   "name": "python3"
  },
  "language_info": {
   "codemirror_mode": {
    "name": "ipython",
    "version": 3
   },
   "file_extension": ".py",
   "mimetype": "text/x-python",
   "name": "python",
   "nbconvert_exporter": "python",
   "pygments_lexer": "ipython3",
   "version": "3.8.8"
  },
  "toc": {
   "base_numbering": 1,
   "nav_menu": {},
   "number_sections": true,
   "sideBar": true,
   "skip_h1_title": false,
   "title_cell": "Table of Contents",
   "title_sidebar": "Contents",
   "toc_cell": false,
   "toc_position": {},
   "toc_section_display": true,
   "toc_window_display": false
  }
 },
 "nbformat": 4,
 "nbformat_minor": 5
}
